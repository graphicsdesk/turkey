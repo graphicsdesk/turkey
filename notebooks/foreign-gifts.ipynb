{
 "cells": [
  {
   "cell_type": "markdown",
   "metadata": {},
   "source": [
    "# Guiding questions\n",
    "\n",
    "How much money does Columbia get from Turkey? How does that compare to other countries?"
   ]
  },
  {
   "cell_type": "code",
   "execution_count": 66,
   "metadata": {},
   "outputs": [],
   "source": [
    "from collections import defaultdict\n",
    "import pandas as pd\n",
    "import numpy as np\n",
    "import matplotlib\n",
    "import matplotlib.pyplot as plt\n",
    "\n",
    "matplotlib.rcParams['pdf.fonttype'] = 42\n",
    "matplotlib.rcParams['ps.fonttype'] = 42"
   ]
  },
  {
   "cell_type": "code",
   "execution_count": 34,
   "metadata": {},
   "outputs": [
    {
     "data": {
      "text/html": [
       "<div>\n",
       "<style scoped>\n",
       "    .dataframe tbody tr th:only-of-type {\n",
       "        vertical-align: middle;\n",
       "    }\n",
       "\n",
       "    .dataframe tbody tr th {\n",
       "        vertical-align: top;\n",
       "    }\n",
       "\n",
       "    .dataframe thead th {\n",
       "        text-align: right;\n",
       "    }\n",
       "</style>\n",
       "<table border=\"1\" class=\"dataframe\">\n",
       "  <thead>\n",
       "    <tr style=\"text-align: right;\">\n",
       "      <th></th>\n",
       "      <th>ID</th>\n",
       "      <th>OPEID</th>\n",
       "      <th>Institution Name</th>\n",
       "      <th>City</th>\n",
       "      <th>State</th>\n",
       "      <th>Foreign Gift Received Date</th>\n",
       "      <th>Foreign Gift Amount</th>\n",
       "      <th>Gift Type</th>\n",
       "      <th>Country of Giftor</th>\n",
       "      <th>Giftor Name</th>\n",
       "    </tr>\n",
       "  </thead>\n",
       "  <tbody>\n",
       "    <tr>\n",
       "      <th>13633</th>\n",
       "      <td>13634</td>\n",
       "      <td>270700</td>\n",
       "      <td>Columbia University in the City of New York</td>\n",
       "      <td>New York</td>\n",
       "      <td>NY</td>\n",
       "      <td>2018-06-30</td>\n",
       "      <td>749980</td>\n",
       "      <td>Contract</td>\n",
       "      <td>THE NETHERLANDS</td>\n",
       "      <td>PORTICUS</td>\n",
       "    </tr>\n",
       "    <tr>\n",
       "      <th>13634</th>\n",
       "      <td>13635</td>\n",
       "      <td>270700</td>\n",
       "      <td>Columbia University in the City of New York</td>\n",
       "      <td>New York</td>\n",
       "      <td>NY</td>\n",
       "      <td>2018-06-29</td>\n",
       "      <td>250000</td>\n",
       "      <td>Monetary Gift</td>\n",
       "      <td>SWITZERLAND</td>\n",
       "      <td>Fondation des Fondateurs</td>\n",
       "    </tr>\n",
       "    <tr>\n",
       "      <th>13635</th>\n",
       "      <td>13636</td>\n",
       "      <td>270700</td>\n",
       "      <td>Columbia University in the City of New York</td>\n",
       "      <td>New York</td>\n",
       "      <td>NY</td>\n",
       "      <td>2018-06-27</td>\n",
       "      <td>5000000</td>\n",
       "      <td>Monetary Gift</td>\n",
       "      <td>HONG KONG</td>\n",
       "      <td>Goldenway Education Foundation Limi</td>\n",
       "    </tr>\n",
       "    <tr>\n",
       "      <th>13636</th>\n",
       "      <td>13637</td>\n",
       "      <td>270700</td>\n",
       "      <td>Columbia University in the City of New York</td>\n",
       "      <td>New York</td>\n",
       "      <td>NY</td>\n",
       "      <td>2018-06-27</td>\n",
       "      <td>250000</td>\n",
       "      <td>Monetary Gift</td>\n",
       "      <td>GERMANY</td>\n",
       "      <td>Wintershall Holding GmbH</td>\n",
       "    </tr>\n",
       "    <tr>\n",
       "      <th>13637</th>\n",
       "      <td>13638</td>\n",
       "      <td>270700</td>\n",
       "      <td>Columbia University in the City of New York</td>\n",
       "      <td>New York</td>\n",
       "      <td>NY</td>\n",
       "      <td>2018-06-26</td>\n",
       "      <td>397980</td>\n",
       "      <td>Contract</td>\n",
       "      <td>URUGUAY</td>\n",
       "      <td>MINISTERIO DE GANADERIA, AGRICULTUR</td>\n",
       "    </tr>\n",
       "  </tbody>\n",
       "</table>\n",
       "</div>"
      ],
      "text/plain": [
       "          ID   OPEID                             Institution Name      City  \\\n",
       "13633  13634  270700  Columbia University in the City of New York  New York   \n",
       "13634  13635  270700  Columbia University in the City of New York  New York   \n",
       "13635  13636  270700  Columbia University in the City of New York  New York   \n",
       "13636  13637  270700  Columbia University in the City of New York  New York   \n",
       "13637  13638  270700  Columbia University in the City of New York  New York   \n",
       "\n",
       "      State Foreign Gift Received Date  Foreign Gift Amount      Gift Type  \\\n",
       "13633    NY                 2018-06-30               749980       Contract   \n",
       "13634    NY                 2018-06-29               250000  Monetary Gift   \n",
       "13635    NY                 2018-06-27              5000000  Monetary Gift   \n",
       "13636    NY                 2018-06-27               250000  Monetary Gift   \n",
       "13637    NY                 2018-06-26               397980       Contract   \n",
       "\n",
       "      Country of Giftor                          Giftor Name  \n",
       "13633   THE NETHERLANDS                             PORTICUS  \n",
       "13634       SWITZERLAND             Fondation des Fondateurs  \n",
       "13635         HONG KONG  Goldenway Education Foundation Limi  \n",
       "13636           GERMANY             Wintershall Holding GmbH  \n",
       "13637           URUGUAY  MINISTERIO DE GANADERIA, AGRICULTUR  "
      ]
     },
     "execution_count": 34,
     "metadata": {},
     "output_type": "execute_result"
    }
   ],
   "source": [
    "df = pd.read_excel('../data/ForeignGifts.xls', header=1)\n",
    "df = df[ df['Institution Name'] == 'Columbia University in the City of New York' ]\n",
    "df['Foreign Gift Amount'] = pd.to_numeric(df['Foreign Gift Amount'])\n",
    "df['Foreign Gift Received Date'] = pd.to_datetime(df['Foreign Gift Received Date'])\n",
    "\n",
    "COUNTRIES = df['Country of Giftor'].unique()\n",
    "\n",
    "df.head()"
   ]
  },
  {
   "cell_type": "code",
   "execution_count": 58,
   "metadata": {},
   "outputs": [],
   "source": [
    "# Returns two dictionaries: monetary gifts and contracts.\n",
    "# For each dict, the format is { country_name: total_amount }\n",
    "def getGifts():\n",
    "    monetaryGifts = defaultdict(int)\n",
    "    contracts = defaultdict(int)\n",
    "\n",
    "    for _, gift in df.iterrows():\n",
    "        country = gift['Country of Giftor']\n",
    "        amount = gift['Foreign Gift Amount']\n",
    "        if gift['Gift Type'] == 'Monetary Gift':\n",
    "            monetaryGifts[ country ] += amount\n",
    "        else:\n",
    "            contracts[ country ] += amount\n",
    "    return monetaryGifts, contracts\n",
    "\n",
    "def getGiftsByCountry(countries=COUNTRIES, top=0):\n",
    "    gifts, contracts = getGifts()\n",
    "    gifts = [gifts[c] for c in countries]\n",
    "    contracts = [contracts[c] for c in countries]\n",
    "    \n",
    "    def countrySum(tup):\n",
    "        (monetary, contract, country) = tup\n",
    "        return monetary + contract\n",
    "    \n",
    "    output = [gifts, contracts, countries]\n",
    "    sortedOutput = sorted(zip(*output), key=countrySum)[-top:]\n",
    "    return zip(*sortedOutput)"
   ]
  },
  {
   "cell_type": "code",
   "execution_count": 73,
   "metadata": {},
   "outputs": [
    {
     "data": {
      "image/png": "[encoded data removed]",
      "text/plain": [
       "<Figure size 864x864 with 1 Axes>"
      ]
     },
     "metadata": {
      "needs_background": "light"
     },
     "output_type": "display_data"
    }
   ],
   "source": [
    "def plotGifts():\n",
    "    plt.figure(figsize=(12, 12))\n",
    "    [gifts, contracts, countries] = getGiftsByCountry(top=15)\n",
    "    \n",
    "    indices = np.arange(len(countries))\n",
    "\n",
    "    width = 1\n",
    "    bottom = None\n",
    "    \n",
    "    p1 = plt.bar(indices, gifts, width, color='#d62728', linewidth=0)\n",
    "    p2 = plt.bar(indices, contracts, width, bottom=gifts, linewidth=0)\n",
    "\n",
    "    # plt.legend(['Monetary gifts', 'Contracts'])\n",
    "    plt.xticks(indices, countries, rotation='vertical')    \n",
    "    plt.xlabel('Country')\n",
    "    plt.ylabel('Gift amount')\n",
    "    plt.title('Foreign Gifts to Columbia University by Country')\n",
    "    \n",
    "plotGifts()\n",
    "plt.tight_layout()\n",
    "plt.savefig('top-15.pdf', transparent=True)"
   ]
  },
  {
   "cell_type": "markdown",
   "metadata": {},
   "source": [
    "# Findings"
   ]
  }
 ],
 "metadata": {
  "kernelspec": {
   "display_name": "Python 3",
   "language": "python",
   "name": "python3"
  },
  "language_info": {
   "codemirror_mode": {
    "name": "ipython",
    "version": 3
   },
   "file_extension": ".py",
   "mimetype": "text/x-python",
   "name": "python",
   "nbconvert_exporter": "python",
   "pygments_lexer": "ipython3",
   "version": "3.7.0"
  }
 },
 "nbformat": 4,
 "nbformat_minor": 2
}
